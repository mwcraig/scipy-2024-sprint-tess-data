{
 "cells": [
  {
   "cell_type": "code",
   "execution_count": null,
   "id": "78c995b8-8663-4f27-be67-22b225256db5",
   "metadata": {},
   "outputs": [],
   "source": [
    "import lightkurve as lk\n",
    "%matplotlib widget\n"
   ]
  },
  {
   "cell_type": "markdown",
   "id": "00ce930a-0a34-4b88-b2ef-5958d24aa7c3",
   "metadata": {},
   "source": [
    "QLP is the product generated from full frame images"
   ]
  },
  {
   "cell_type": "code",
   "execution_count": null,
   "id": "3314084b-8515-4d2d-ad33-4a3d8c8fbb8c",
   "metadata": {
    "scrolled": true
   },
   "outputs": [],
   "source": [
    "search_result = lk.search_lightcurve(\"TIC81247877\", mission=\"TESS\", author=\"QLP\")\n",
    "search_result"
   ]
  },
  {
   "cell_type": "code",
   "execution_count": null,
   "id": "45e4ea07-e412-4a62-a24c-bd2673a473fa",
   "metadata": {},
   "outputs": [],
   "source": [
    "all_the_data = search_result.download_all()"
   ]
  },
  {
   "cell_type": "code",
   "execution_count": null,
   "id": "88c4e0af-34f1-4af8-aeab-c3eedcc548f7",
   "metadata": {},
   "outputs": [],
   "source": [
    "all_the_data.stitch()"
   ]
  },
  {
   "cell_type": "markdown",
   "id": "0d14d33a-da00-4b1b-9659-f18ace73a79f",
   "metadata": {},
   "source": [
    "Important columns:\n",
    "\n",
    "+ flux (is a relative flux)\n",
    "+ look here for flux with systematic effects remove: https://tess.mit.edu/qlp/\n",
    "+ detrended data attempts to remove all non-exoplanet variability"
   ]
  },
  {
   "cell_type": "code",
   "execution_count": null,
   "id": "87b594e2-f012-406a-82fb-9b9f524c5c16",
   "metadata": {},
   "outputs": [],
   "source": [
    "result = all_the_data.stitch()"
   ]
  },
  {
   "cell_type": "code",
   "execution_count": null,
   "id": "a1bcf86d-24b5-41e7-a2fb-c01ac76183a6",
   "metadata": {},
   "outputs": [],
   "source": [
    "ax = result.plot()\n",
    "ax.set_ylim(0, 2)"
   ]
  },
  {
   "cell_type": "code",
   "execution_count": null,
   "id": "cddd32c5-1fca-4896-9448-0ef8aba1dbba",
   "metadata": {},
   "outputs": [],
   "source": [
    "from matplotlib import pyplot as plt"
   ]
  },
  {
   "cell_type": "code",
   "execution_count": null,
   "id": "eb3554a4-42ec-401e-b6ee-4fbfcf91b68a",
   "metadata": {},
   "outputs": [],
   "source": [
    "plt.figure()\n",
    "plt.plot(result[\"time\"].jd, result[\"kspsap_flux\"])\n",
    "plt.grid()"
   ]
  },
  {
   "cell_type": "code",
   "execution_count": null,
   "id": "df7ee0a9-93b1-4f97-8c76-7693e7c80d60",
   "metadata": {},
   "outputs": [],
   "source": [
    "lk.search_lightcurve(\"TIC456340440\", mission=\"TESS\", author=\"QLP\")\n"
   ]
  },
  {
   "cell_type": "code",
   "execution_count": null,
   "id": "b406f3f0-7144-4ecf-9834-865b06aa2568",
   "metadata": {},
   "outputs": [],
   "source": []
  },
  {
   "cell_type": "code",
   "execution_count": null,
   "id": "3825ec14-963e-4a2e-9281-3779ab098ce2",
   "metadata": {},
   "outputs": [],
   "source": []
  }
 ],
 "metadata": {
  "kernelspec": {
   "display_name": "Python 3 (ipykernel)",
   "language": "python",
   "name": "python3"
  },
  "language_info": {
   "codemirror_mode": {
    "name": "ipython",
    "version": 3
   },
   "file_extension": ".py",
   "mimetype": "text/x-python",
   "name": "python",
   "nbconvert_exporter": "python",
   "pygments_lexer": "ipython3",
   "version": "3.11.9"
  }
 },
 "nbformat": 4,
 "nbformat_minor": 5
}
