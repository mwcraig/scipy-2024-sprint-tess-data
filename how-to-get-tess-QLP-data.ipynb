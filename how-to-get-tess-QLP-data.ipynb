{
 "cells": [
  {
   "cell_type": "code",
   "execution_count": 1,
   "id": "78c995b8-8663-4f27-be67-22b225256db5",
   "metadata": {},
   "outputs": [],
   "source": [
    "import lightkurve as lk\n",
    "%matplotlib inline\n"
   ]
  },
  {
   "cell_type": "markdown",
   "id": "00ce930a-0a34-4b88-b2ef-5958d24aa7c3",
   "metadata": {},
   "source": [
    "QLP is the product generated from full frame images"
   ]
  },
  {
   "cell_type": "code",
   "execution_count": 8,
   "id": "3314084b-8515-4d2d-ad33-4a3d8c8fbb8c",
   "metadata": {
    "scrolled": true
   },
   "outputs": [
    {
     "data": {
      "text/html": [
       "SearchResult containing 2 data products.\n",
       "\n",
       "<table id=\"table13783912400\">\n",
       "<thead><tr><th>#</th><th>mission</th><th>year</th><th>author</th><th>exptime</th><th>target_name</th><th>distance</th></tr></thead>\n",
       "<thead><tr><th></th><th></th><th></th><th></th><th>s</th><th></th><th>arcsec</th></tr></thead>\n",
       "<tr><td>0</td><td>TESS Sector 23</td><td>2020</td><td><a href='https://archive.stsci.edu/hlsp/qlp'>QLP</a></td><td>1800</td><td>81247877</td><td>0.0</td></tr>\n",
       "<tr><td>1</td><td>TESS Sector 50</td><td>2022</td><td><a href='https://archive.stsci.edu/hlsp/qlp'>QLP</a></td><td>600</td><td>81247877</td><td>0.0</td></tr>\n",
       "</table>"
      ],
      "text/plain": [
       "SearchResult containing 2 data products.\n",
       "\n",
       " #     mission     year author exptime target_name distance\n",
       "                                  s                 arcsec \n",
       "--- -------------- ---- ------ ------- ----------- --------\n",
       "  0 TESS Sector 23 2020    QLP    1800    81247877      0.0\n",
       "  1 TESS Sector 50 2022    QLP     600    81247877      0.0"
      ]
     },
     "execution_count": 8,
     "metadata": {},
     "output_type": "execute_result"
    }
   ],
   "source": [
    "search_result = lk.search_lightcurve(\"TIC81247877\", mission=\"TESS\", author=\"QLP\")\n",
    "search_result"
   ]
  },
  {
   "cell_type": "code",
   "execution_count": 9,
   "id": "45e4ea07-e412-4a62-a24c-bd2673a473fa",
   "metadata": {},
   "outputs": [],
   "source": [
    "all_the_data = search_result.download_all()"
   ]
  },
  {
   "cell_type": "code",
   "execution_count": 10,
   "id": "88c4e0af-34f1-4af8-aeab-c3eedcc548f7",
   "metadata": {},
   "outputs": [
    {
     "name": "stderr",
     "output_type": "stream",
     "text": [
      "/Users/mattcraig/miniforge3/envs/stelldev-pyd2/lib/python3.11/site-packages/lightkurve/lightcurve.py:1131: LightkurveWarning: The light curve appears to be zero-centered (median=1.00e+00 +/- 5.82e+00); `normalize()` will divide the light curve by a value close to zero, which is probably not what you want.\n",
      "  warnings.warn(\n"
     ]
    },
    {
     "data": {
      "text/html": [
       "<div><i>TessLightCurve length=4631 LABEL=&quot;TIC 81247877&quot; SECTOR=50 AUTHOR=QLP FLUX_ORIGIN=sap_flux</i>\n",
       "<table id=\"table13424295312\" class=\"table-striped table-bordered table-condensed\">\n",
       "<thead><tr><th>time</th><th>flux</th><th>flux_err</th><th>cadenceno</th><th>sap_flux</th><th>kspsap_flux</th><th>kspsap_flux_err</th><th>quality</th><th>orbitid</th><th>sap_x</th><th>sap_y</th><th>sap_bkg</th><th>sap_bkg_err</th><th>kspsap_flux_sml</th><th>kspsap_flux_lag</th></tr></thead>\n",
       "<thead><tr><th></th><th></th><th></th><th></th><th></th><th></th><th></th><th></th><th></th><th>pix</th><th>pix</th><th></th><th></th><th></th><th></th></tr></thead>\n",
       "<thead><tr><th>Time</th><th>float32</th><th>float32</th><th>int32</th><th>float32</th><th>float32</th><th>float32</th><th>int32</th><th>int32</th><th>float32</th><th>float32</th><th>float32</th><th>float32</th><th>float32</th><th>float32</th></tr></thead>\n",
       "<tr><td>1928.1198720279847</td><td>nan</td><td>0.001388910342939198</td><td>33631</td><td>--</td><td>--</td><td>0.0013889531</td><td>6144</td><td>53</td><td>———</td><td>———</td><td>182445.73</td><td>231472.31</td><td>--</td><td>--</td></tr>\n",
       "<tr><td>1928.1407058428078</td><td>nan</td><td>0.001388910342939198</td><td>33632</td><td>--</td><td>--</td><td>0.0013889531</td><td>6144</td><td>53</td><td>———</td><td>———</td><td>51471.13</td><td>367684.7</td><td>--</td><td>--</td></tr>\n",
       "<tr><td>1928.161539659091</td><td>nan</td><td>0.001388910342939198</td><td>33633</td><td>--</td><td>--</td><td>0.0013889531</td><td>6144</td><td>53</td><td>———</td><td>———</td><td>-39062.72</td><td>482810.28</td><td>--</td><td>--</td></tr>\n",
       "<tr><td>1928.1823734768434</td><td>nan</td><td>0.001388910342939198</td><td>33634</td><td>--</td><td>--</td><td>0.0013889531</td><td>6144</td><td>53</td><td>———</td><td>———</td><td>-149247.69</td><td>612150.44</td><td>--</td><td>--</td></tr>\n",
       "<tr><td>1928.2032072959798</td><td>nan</td><td>0.001388910342939198</td><td>33635</td><td>--</td><td>--</td><td>0.0013889531</td><td>6144</td><td>53</td><td>———</td><td>———</td><td>-19774596.0</td><td>1354805.2</td><td>--</td><td>--</td></tr>\n",
       "<tr><td>1928.224041116533</td><td>nan</td><td>0.001388910342939198</td><td>33636</td><td>--</td><td>--</td><td>0.0013889531</td><td>2048</td><td>53</td><td>———</td><td>———</td><td>-25522342.0</td><td>909910.25</td><td>--</td><td>--</td></tr>\n",
       "<tr><td>1928.2448749383923</td><td>nan</td><td>0.001388910342939198</td><td>33637</td><td>--</td><td>--</td><td>0.0013889531</td><td>2048</td><td>53</td><td>———</td><td>———</td><td>-2248155.5</td><td>253580.19</td><td>--</td><td>--</td></tr>\n",
       "<tr><td>1928.265708761596</td><td>nan</td><td>0.001388910342939198</td><td>33638</td><td>--</td><td>--</td><td>0.0013889531</td><td>2048</td><td>53</td><td>———</td><td>———</td><td>-3138.5</td><td>19099.29</td><td>--</td><td>--</td></tr>\n",
       "<tr><td>1928.2865425860373</td><td>nan</td><td>0.001388910342939198</td><td>33639</td><td>--</td><td>--</td><td>0.0013889531</td><td>2048</td><td>53</td><td>———</td><td>———</td><td>-546284.0</td><td>68650.27</td><td>--</td><td>--</td></tr>\n",
       "<tr><td>...</td><td>...</td><td>...</td><td>...</td><td>...</td><td>...</td><td>...</td><td>...</td><td>...</td><td>...</td><td>...</td><td>...</td><td>...</td><td>...</td><td>...</td></tr>\n",
       "<tr><td>2691.4530185975127</td><td>0.9979859590530396</td><td>0.0028133036103099585</td><td>210814</td><td>0.99795455</td><td>1.0020686</td><td>0.0028132151</td><td>18432</td><td>0</td><td>352.2594909667969</td><td>743.7990112304688</td><td>-14701.6</td><td>303.26</td><td>1.0022583</td><td>1.0028064</td></tr>\n",
       "<tr><td>2691.4599628857454</td><td>0.9932266473770142</td><td>0.0028133036103099585</td><td>210815</td><td>0.9931954</td><td>0.997339</td><td>0.0028132151</td><td>0</td><td>0</td><td>352.2600402832031</td><td>743.800048828125</td><td>-14609.08</td><td>337.04</td><td>0.99855745</td><td>0.99694735</td></tr>\n",
       "<tr><td>2691.4669071730004</td><td>0.9994658827781677</td><td>0.0028133036103099585</td><td>210816</td><td>0.9994344</td><td>1.003654</td><td>0.0028132151</td><td>0</td><td>0</td><td>352.26214599609375</td><td>743.8021850585938</td><td>-14718.58</td><td>320.38</td><td>1.0032719</td><td>1.0037425</td></tr>\n",
       "<tr><td>2691.4738514592773</td><td>0.9980267882347107</td><td>0.0028133036103099585</td><td>210817</td><td>0.9979954</td><td>1.0022595</td><td>0.0028132151</td><td>0</td><td>0</td><td>352.260986328125</td><td>743.7990112304688</td><td>-14759.62</td><td>358.78</td><td>1.0014795</td><td>1.0017492</td></tr>\n",
       "<tr><td>2691.4807957455555</td><td>0.9953943490982056</td><td>0.0028133036103099585</td><td>210818</td><td>0.995363</td><td>0.9996669</td><td>0.0028132151</td><td>6144</td><td>0</td><td>352.260009765625</td><td>743.8009033203125</td><td>-14567.0</td><td>338.45</td><td>0.99968594</td><td>0.9991341</td></tr>\n",
       "<tr><td>2691.4877400318337</td><td>0.9953015446662903</td><td>0.0028133036103099585</td><td>210819</td><td>0.9952702</td><td>0.9996254</td><td>0.0028132151</td><td>4096</td><td>0</td><td>352.2608337402344</td><td>743.8009643554688</td><td>-14742.03</td><td>372.71</td><td>0.99770796</td><td>1.0010961</td></tr>\n",
       "<tr><td>2691.494684318111</td><td>0.9968321323394775</td><td>0.0028133036103099585</td><td>210820</td><td>0.9968008</td><td>1.001215</td><td>0.0028132151</td><td>4096</td><td>0</td><td>352.2604064941406</td><td>743.8018188476562</td><td>-14795.83</td><td>309.0</td><td>0.99936926</td><td>1.0013673</td></tr>\n",
       "<tr><td>2691.5016286043888</td><td>0.994245707988739</td><td>0.0028133036103099585</td><td>210821</td><td>0.9942144</td><td>0.99867004</td><td>0.0028132151</td><td>4096</td><td>0</td><td>352.26202392578125</td><td>743.80322265625</td><td>-14670.09</td><td>257.53</td><td>0.9972421</td><td>0.9984274</td></tr>\n",
       "<tr><td>2691.508572889642</td><td>0.9977254867553711</td><td>0.0028133036103099585</td><td>210822</td><td>0.9976941</td><td>1.002219</td><td>0.0028132151</td><td>6144</td><td>0</td><td>352.255615234375</td><td>743.8064575195312</td><td>-14788.74</td><td>368.77</td><td>1.0004171</td><td>1.0032111</td></tr>\n",
       "</table></div>"
      ],
      "text/plain": [
       "<TessLightCurve length=4631 LABEL=\"TIC 81247877\" SECTOR=50 AUTHOR=QLP FLUX_ORIGIN=sap_flux>\n",
       "       time               flux        ... kspsap_flux_sml kspsap_flux_lag\n",
       "                                      ...                                \n",
       "       Time             float32       ...     float32         float32    \n",
       "------------------ ------------------ ... --------------- ---------------\n",
       "1928.1198720279847                nan ...              --              --\n",
       "1928.1407058428078                nan ...              --              --\n",
       " 1928.161539659091                nan ...              --              --\n",
       "1928.1823734768434                nan ...              --              --\n",
       "1928.2032072959798                nan ...              --              --\n",
       " 1928.224041116533                nan ...              --              --\n",
       "1928.2448749383923                nan ...              --              --\n",
       " 1928.265708761596                nan ...              --              --\n",
       "1928.2865425860373                nan ...              --              --\n",
       "               ...                ... ...             ...             ...\n",
       "2691.4530185975127 0.9979859590530396 ...       1.0022583       1.0028064\n",
       "2691.4599628857454 0.9932266473770142 ...      0.99855745      0.99694735\n",
       "2691.4669071730004 0.9994658827781677 ...       1.0032719       1.0037425\n",
       "2691.4738514592773 0.9980267882347107 ...       1.0014795       1.0017492\n",
       "2691.4807957455555 0.9953943490982056 ...      0.99968594       0.9991341\n",
       "2691.4877400318337 0.9953015446662903 ...      0.99770796       1.0010961\n",
       " 2691.494684318111 0.9968321323394775 ...      0.99936926       1.0013673\n",
       "2691.5016286043888  0.994245707988739 ...       0.9972421       0.9984274\n",
       " 2691.508572889642 0.9977254867553711 ...       1.0004171       1.0032111"
      ]
     },
     "execution_count": 10,
     "metadata": {},
     "output_type": "execute_result"
    }
   ],
   "source": [
    "all_the_data.stitch()"
   ]
  },
  {
   "cell_type": "markdown",
   "id": "0d14d33a-da00-4b1b-9659-f18ace73a79f",
   "metadata": {},
   "source": [
    "Important columns:\n",
    "\n",
    "+ flux (is a relative flux)\n",
    "+ look here for flux with systematic effects remove: https://tess.mit.edu/qlp/\n",
    "+ detrended data attempts to remove all non-exoplanet variability"
   ]
  },
  {
   "cell_type": "code",
   "execution_count": 11,
   "id": "df7ee0a9-93b1-4f97-8c76-7693e7c80d60",
   "metadata": {},
   "outputs": [
    {
     "name": "stderr",
     "output_type": "stream",
     "text": [
      "No data found for target \"TIC456340440\".\n"
     ]
    },
    {
     "data": {
      "text/html": [
       "SearchResult containing 0 data products."
      ],
      "text/plain": [
       "SearchResult containing 0 data products."
      ]
     },
     "execution_count": 11,
     "metadata": {},
     "output_type": "execute_result"
    }
   ],
   "source": [
    "lk.search_lightcurve(\"TIC456340440\", mission=\"TESS\", author=\"QLP\")\n"
   ]
  },
  {
   "cell_type": "code",
   "execution_count": null,
   "id": "b406f3f0-7144-4ecf-9834-865b06aa2568",
   "metadata": {},
   "outputs": [],
   "source": [
    "j"
   ]
  }
 ],
 "metadata": {
  "kernelspec": {
   "display_name": "Python 3 (ipykernel)",
   "language": "python",
   "name": "python3"
  },
  "language_info": {
   "codemirror_mode": {
    "name": "ipython",
    "version": 3
   },
   "file_extension": ".py",
   "mimetype": "text/x-python",
   "name": "python",
   "nbconvert_exporter": "python",
   "pygments_lexer": "ipython3",
   "version": "3.11.9"
  }
 },
 "nbformat": 4,
 "nbformat_minor": 5
}
