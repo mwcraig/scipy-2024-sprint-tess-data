{
 "cells": [
  {
   "cell_type": "markdown",
   "id": "0222f9f8-67b0-4909-b1d1-7c35b196cae9",
   "metadata": {},
   "source": [
    "# More links\n",
    "\n",
    "+ [wōtan](https://github.com/hippke/wotan) for detrending\n",
    "+ [exoplanet]() for modeling *and* MCMC fitting "
   ]
  },
  {
   "cell_type": "code",
   "execution_count": null,
   "id": "ddd39a1e-cb86-46ec-b4f2-08f75fdfc0df",
   "metadata": {},
   "outputs": [],
   "source": []
  }
 ],
 "metadata": {
  "kernelspec": {
   "display_name": "Python 3 (ipykernel)",
   "language": "python",
   "name": "python3"
  },
  "language_info": {
   "codemirror_mode": {
    "name": "ipython",
    "version": 3
   },
   "file_extension": ".py",
   "mimetype": "text/x-python",
   "name": "python",
   "nbconvert_exporter": "python",
   "pygments_lexer": "ipython3",
   "version": "3.11.9"
  }
 },
 "nbformat": 4,
 "nbformat_minor": 5
}
