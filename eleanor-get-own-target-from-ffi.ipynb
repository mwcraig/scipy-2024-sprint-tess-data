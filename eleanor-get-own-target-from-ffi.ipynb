{
 "cells": [
  {
   "cell_type": "code",
   "execution_count": null,
   "id": "fc106b7b-995c-42f7-a5b0-7b175e1741d7",
   "metadata": {},
   "outputs": [],
   "source": [
    "import eleanor\n",
    "import numpy as np\n",
    "from astropy import units as u\n",
    "%matplotlib widget\n",
    "import matplotlib.pyplot as plt\n",
    "from astropy.coordinates import SkyCoord"
   ]
  },
  {
   "cell_type": "code",
   "execution_count": null,
   "id": "473b5ccc-c711-407c-9d67-89fd8745d1aa",
   "metadata": {},
   "outputs": [],
   "source": [
    "star = eleanor.Source(name='2MASS J13415778+1715381')"
   ]
  },
  {
   "cell_type": "code",
   "execution_count": null,
   "id": "70aca97d-1eff-42f5-93c2-2b43648e3f70",
   "metadata": {},
   "outputs": [],
   "source": [
    "data = eleanor.TargetData(star)"
   ]
  },
  {
   "cell_type": "code",
   "execution_count": null,
   "id": "c3bc9a72-9ef8-4a90-a8f9-59fdeeb4fbf0",
   "metadata": {},
   "outputs": [],
   "source": [
    "plt.figure(figsize=(15,5))\n",
    "\n",
    "q = data.quality == 0\n",
    "\n",
    "plt.plot(data.time[q], data.raw_flux[q]/np.nanmedian(data.raw_flux[q])+0.06, 'k')\n",
    "plt.plot(data.time[q], data.corr_flux[q]/np.nanmedian(data.corr_flux[q]) + 0.03, 'r')\n",
    "#plt.plot(data.time[q], data.pca_flux[q]/np.nanmedian(data.pca_flux[q]), 'g')\n",
    "#plt.plot(data.time[q], data.psf_flux[q]/np.nanmedian(data.psf_flux[q]) - 0.02, 'b')\n",
    "plt.ylabel('Normalized Flux')\n",
    "plt.xlabel('Time [BJD - 2457000]')\n",
    "plt.grid()"
   ]
  },
  {
   "cell_type": "markdown",
   "id": "a80a4589-f474-445f-9c31-1e66d7795a93",
   "metadata": {},
   "source": [
    "## Also look at tglc maybe https://pypi.org/project/tglc/ (also may be in lightkurve)"
   ]
  },
  {
   "cell_type": "code",
   "execution_count": null,
   "id": "2273e4fc-6882-46be-9590-aa0c77309c0a",
   "metadata": {},
   "outputs": [],
   "source": []
  }
 ],
 "metadata": {
  "kernelspec": {
   "display_name": "Python 3 (ipykernel)",
   "language": "python",
   "name": "python3"
  },
  "language_info": {
   "codemirror_mode": {
    "name": "ipython",
    "version": 3
   },
   "file_extension": ".py",
   "mimetype": "text/x-python",
   "name": "python",
   "nbconvert_exporter": "python",
   "pygments_lexer": "ipython3",
   "version": "3.11.9"
  }
 },
 "nbformat": 4,
 "nbformat_minor": 5
}
