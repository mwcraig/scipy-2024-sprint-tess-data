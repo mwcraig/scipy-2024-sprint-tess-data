{
 "cells": [
  {
   "cell_type": "code",
   "execution_count": null,
   "id": "fc106b7b-995c-42f7-a5b0-7b175e1741d7",
   "metadata": {},
   "outputs": [],
   "source": [
    "import eleanor\n",
    "import numpy as np\n",
    "from astropy import units as u\n",
    "%matplotlib widget\n",
    "import matplotlib.pyplot as plt\n",
    "from astropy.coordinates import SkyCoord\n",
    "from astroquery.mast import Tesscut"
   ]
  },
  {
   "cell_type": "code",
   "execution_count": null,
   "id": "ebf5e174-f535-42b3-9be6-cb814f3af6c9",
   "metadata": {},
   "outputs": [],
   "source": [
    "ey_uma = SkyCoord.from_name(\"ey uma\")\n"
   ]
  },
  {
   "cell_type": "code",
   "execution_count": null,
   "id": "3dc1be40-9493-4644-ab4d-9ff06393639c",
   "metadata": {},
   "outputs": [],
   "source": [
    "sectorTable = Tesscut.get_sectors(coordinates=ey_uma)\n",
    "print(sectorTable)"
   ]
  },
  {
   "cell_type": "code",
   "execution_count": null,
   "id": "26163763-c668-4faf-87fe-a48b690ad08c",
   "metadata": {},
   "outputs": [],
   "source": [
    "sources = eleanor.multi_sectors([21, 47], coords=ey_uma)"
   ]
  },
  {
   "cell_type": "code",
   "execution_count": null,
   "id": "70aca97d-1eff-42f5-93c2-2b43648e3f70",
   "metadata": {},
   "outputs": [],
   "source": [
    "datas = [eleanor.TargetData(s) for s in sources]"
   ]
  },
  {
   "cell_type": "code",
   "execution_count": null,
   "id": "c3bc9a72-9ef8-4a90-a8f9-59fdeeb4fbf0",
   "metadata": {},
   "outputs": [],
   "source": [
    "plt.figure(figsize=(10,5))\n",
    "\n",
    "for source, data, color in zip(sources, datas, ['r', 'k']):\n",
    "    q = data.quality == 0\n",
    "    \n",
    "    #plt.plot(data.time[q], data.raw_flux[q]/np.nanmedian(data.raw_flux[q])+0.06, 'k', label=str(source.sector))\n",
    "    plt.plot(data.time[q], data.corr_flux[q]/np.nanmedian(data.corr_flux[q]), color, label=f\"Sector {source.sector}\")\n",
    "    #plt.plot(data.time[q], data.pca_flux[q]/np.nanmedian(data.pca_flux[q]), 'g')\n",
    "    #plt.plot(data.time[q], data.psf_flux[q]/np.nanmedian(data.psf_flux[q]) - 0.02, 'b')\n",
    "    plt.grid()\n",
    "    plt.ylabel('Normalized Flux')\n",
    "    plt.xlabel('Time [BJD - 2457000]')\n",
    "    plt.legend()\n",
    "    "
   ]
  },
  {
   "cell_type": "markdown",
   "id": "a80a4589-f474-445f-9c31-1e66d7795a93",
   "metadata": {},
   "source": [
    "## Also look at tglc maybe https://pypi.org/project/tglc/ (also may be in lightkurve)"
   ]
  },
  {
   "cell_type": "code",
   "execution_count": null,
   "id": "2273e4fc-6882-46be-9590-aa0c77309c0a",
   "metadata": {},
   "outputs": [],
   "source": []
  }
 ],
 "metadata": {
  "kernelspec": {
   "display_name": "Python 3 (ipykernel)",
   "language": "python",
   "name": "python3"
  },
  "language_info": {
   "codemirror_mode": {
    "name": "ipython",
    "version": 3
   },
   "file_extension": ".py",
   "mimetype": "text/x-python",
   "name": "python",
   "nbconvert_exporter": "python",
   "pygments_lexer": "ipython3",
   "version": "3.11.8"
  }
 },
 "nbformat": 4,
 "nbformat_minor": 5
}
